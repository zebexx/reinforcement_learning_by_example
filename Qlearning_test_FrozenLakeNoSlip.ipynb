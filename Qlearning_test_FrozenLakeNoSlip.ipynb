{
 "cells": [
  {
   "cell_type": "code",
   "execution_count": 2,
   "id": "c46c5bd9",
   "metadata": {},
   "outputs": [],
   "source": [
    "import gym\n",
    "import random\n",
    "import numpy as np\n",
    "import time\n",
    "from gym.envs.registration import register\n",
    "from IPython.display import clear_output\n",
    "\n",
    "import matplotlib"
   ]
  },
  {
   "cell_type": "code",
   "execution_count": 3,
   "id": "aea5060a",
   "metadata": {},
   "outputs": [
    {
     "output_type": "stream",
     "name": "stdout",
     "text": [
      "Observation space: Discrete(16)\nAction space: Discrete(4)\n"
     ]
    },
    {
     "output_type": "execute_result",
     "data": {
      "text/plain": [
       "gym.spaces.discrete.Discrete"
      ]
     },
     "metadata": {},
     "execution_count": 3
    }
   ],
   "source": [
    "# https://github.com/openai/gym/blob/master/gym/envs/toy_text/frozen_lake.py\n",
    "# https://github.com/openai/gym/blob/master/gym/envs/__init__.py\n",
    "try:\n",
    "    register(\n",
    "        id='FrozenLakeNoSlip-v0',\n",
    "        entry_point='gym.envs.toy_text:FrozenLakeEnv',\n",
    "        kwargs={'map_name' : '4x4', 'is_slippery':True},\n",
    "        max_episode_steps=100,\n",
    "        reward_threshold=0.78, # optimum = .8196\n",
    "    )\n",
    "except:\n",
    "    pass\n",
    "\n",
    "# env_name = \"CartPole-v1\"\n",
    "# env_name = \"MountainCar-v0\"\n",
    "# env_name = \"MountainCarContinuous-v0\"\n",
    "# env_name = \"Acrobot-v1\"\n",
    "# env_name = \"Pendulum-v0\"\n",
    "env_name = \"FrozenLake-v0\"\n",
    "env_name = \"FrozenLakeNoSlip-v0\"\n",
    "env = gym.make(env_name)\n",
    "print(\"Observation space:\", env.observation_space)\n",
    "print(\"Action space:\", env.action_space)\n",
    "type(env.action_space)"
   ]
  },
  {
   "cell_type": "code",
   "execution_count": 4,
   "id": "d6c21dca",
   "metadata": {},
   "outputs": [],
   "source": [
    "class Agent():\n",
    "    def __init__(self, env):\n",
    "        self.is_discrete = \\\n",
    "            type(env.action_space) == gym.spaces.discrete.Discrete\n",
    "        \n",
    "        if self.is_discrete:\n",
    "            self.action_size = env.action_space.n\n",
    "            print(\"Action size:\", self.action_size)\n",
    "        else:\n",
    "            self.action_low = env.action_space.low\n",
    "            self.action_high = env.action_space.high\n",
    "            self.action_shape = env.action_space.shape\n",
    "            print(\"Action range:\", self.action_low, self.action_high)\n",
    "        \n",
    "    def get_action(self, state):\n",
    "        if self.is_discrete:\n",
    "            action = random.choice(range(self.action_size))\n",
    "        else:\n",
    "            action = np.random.uniform(self.action_low,\n",
    "                                       self.action_high,\n",
    "                                       self.action_shape)\n",
    "        return action"
   ]
  },
  {
   "cell_type": "code",
   "execution_count": 5,
   "id": "c373cc7d",
   "metadata": {},
   "outputs": [
    {
     "output_type": "stream",
     "name": "stdout",
     "text": [
      "Action size: 4\nState size: 16\n"
     ]
    }
   ],
   "source": [
    "class QAgent(Agent):\n",
    "    def __init__(self, env, discount_rate=0.99, learning_rate=0.01):\n",
    "        super().__init__(env)\n",
    "        self.state_size = env.observation_space.n\n",
    "        print(\"State size:\", self.state_size)\n",
    "        \n",
    "        self.eps = 1.0\n",
    "        self.discount_rate = discount_rate\n",
    "        self.learning_rate = learning_rate\n",
    "        self.build_model()\n",
    "        \n",
    "    def build_model(self):\n",
    "        self.q_table = 1e-4*np.random.random([self.state_size, self.action_size])\n",
    "        \n",
    "    def get_action(self, state):\n",
    "        q_state = self.q_table[state]\n",
    "        action_greedy = np.argmax(q_state)\n",
    "        action_random = super().get_action(state)\n",
    "        return action_random if random.random() < self.eps else action_greedy\n",
    "    \n",
    "    def train(self, experience):\n",
    "        state, action, next_state, reward, done = experience\n",
    "        \n",
    "        q_next = self.q_table[next_state]\n",
    "        q_next = np.zeros([self.action_size]) if done else q_next\n",
    "        q_target = reward + self.discount_rate * np.max(q_next)\n",
    "        \n",
    "        q_update = q_target - self.q_table[state,action]\n",
    "        self.q_table[state,action] += self.learning_rate * q_update\n",
    "        \n",
    "        if done:\n",
    "            self.eps = self.eps * 0.99\n",
    "        \n",
    "agent = QAgent(env)"
   ]
  },
  {
   "cell_type": "code",
   "execution_count": 6,
   "id": "9e439a50",
   "metadata": {
    "tags": []
   },
   "outputs": [
    {
     "output_type": "stream",
     "name": "stdout",
     "text": [
      "s: 5 a: 0\nEpisode: 999, Total reward: 0.0, Average reward 0.0, Success rate: 0.0% eps: 4.317124741065784e-05\n  (Left)\nSFFF\nF\u001b[41mH\u001b[0mFH\nFFFH\nHFFG\n[[4.45660481e-05 4.45819217e-05 4.45901104e-05 4.45898087e-05]\n [4.14636162e-05 4.37006715e-05 3.35727208e-05 4.41284702e-05]\n [4.39641711e-05 4.39683968e-05 4.39835631e-05 4.39823972e-05]\n [4.35732446e-05 4.33240392e-05 3.62409490e-05 4.36960933e-05]\n [4.18967870e-05 4.19476997e-05 4.20629128e-05 4.16837021e-05]\n [5.03941186e-05 2.82150298e-05 8.30284701e-05 6.30925352e-05]\n [2.72823309e-05 2.73174448e-05 2.12755223e-05 2.76287242e-05]\n [1.51251751e-05 1.57665203e-05 9.75403760e-05 1.65432518e-05]\n [3.80917707e-05 2.50619618e-05 3.81828281e-05 3.83008413e-05]\n [3.22117366e-05 3.03297400e-05 3.17457963e-05 3.17978008e-05]\n [4.62203607e-05 4.18944416e-05 4.47738361e-05 4.63368506e-05]\n [2.10674727e-05 2.54096795e-05 9.38328816e-06 6.09841137e-06]\n [2.42946905e-05 1.29559389e-05 9.43969721e-05 5.86559591e-05]\n [5.12758349e-05 2.07014286e-05 3.28731863e-05 5.13941299e-05]\n [7.04682850e-05 1.79566412e-05 6.80395995e-05 5.76572104e-05]\n [2.52656917e-05 1.29046785e-05 3.51861382e-05 4.38754994e-05]]\n"
     ]
    }
   ],
   "source": [
    "total_reward = 0\n",
    "success_hist = []\n",
    "for i in range(10):\n",
    "    success_hist.append(0)\n",
    "for ep in range(1000):\n",
    "    state = env.reset()\n",
    "    done = False\n",
    "    while not done:\n",
    "        action = agent.get_action(state)\n",
    "        next_state, reward, done, info = env.step(action)\n",
    "        agent.train((state,action,next_state,reward,done))\n",
    "        state = next_state\n",
    "        total_reward += reward\n",
    "\n",
    "        for num in range(1, len(success_hist)):\n",
    "             success_hist[num-1] = success_hist[num]\n",
    "        success_hist[len(success_hist)-1] = reward \n",
    "\n",
    "        avg_success = (sum(success_hist)/len(success_hist))*100\n",
    "        avg_reward = sum(success_hist)/len(success_hist)\n",
    "        \n",
    "        print(\"s:\", state, \"a:\", action)\n",
    "        print(\"Episode: {}, Total reward: {}, Average reward {}, Success rate: {}% eps: {}\".format(ep,total_reward,avg_reward,avg_success,agent.eps))\n",
    "        #print(success_hist)\n",
    "        env.render()\n",
    "        print(agent.q_table)\n",
    "        clear_output(wait=True)"
   ]
  },
  {
   "cell_type": "code",
   "execution_count": null,
   "metadata": {},
   "outputs": [],
   "source": []
  }
 ],
 "metadata": {
  "kernelspec": {
   "name": "python3",
   "display_name": "Python 3.8.6 64-bit"
  },
  "language_info": {
   "codemirror_mode": {
    "name": "ipython",
    "version": 3
   },
   "file_extension": ".py",
   "mimetype": "text/x-python",
   "name": "python",
   "nbconvert_exporter": "python",
   "pygments_lexer": "ipython3",
   "version": "3.8.6"
  },
  "interpreter": {
   "hash": "d7f35dd6cae827566a9d8dad183a08bee2c23219e7e2b9ff2c202c0227dff7eb"
  }
 },
 "nbformat": 4,
 "nbformat_minor": 5
}